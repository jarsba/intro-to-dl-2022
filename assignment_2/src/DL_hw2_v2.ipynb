{
 "cells": [
  {
   "cell_type": "code",
   "execution_count": 10,
   "metadata": {},
   "outputs": [],
   "source": [
    "import torch\n",
    "import torch.optim as optim\n",
    "import torch.utils.data\n",
    "import torch.backends.cudnn as cudnn\n",
    "import torchvision\n",
    "from torchvision import transforms, datasets\n",
    "import torch.nn as nn\n",
    "import torch.nn.functional as F\n",
    "import numpy as np\n",
    "import matplotlib.pyplot as plt\n",
    "import statistics"
   ]
  },
  {
   "cell_type": "code",
   "execution_count": 11,
   "metadata": {},
   "outputs": [],
   "source": [
    "#--- hyperparameters ---\n",
    "N_EPOCHS = 200\n",
    "BATCH_SIZE_TRAIN = 64\n",
    "BATCH_SIZE_TEST = 64\n",
    "BATCH_SIZE_VALIDATION = 64\n",
    "LR = 0.01"
   ]
  },
  {
   "cell_type": "code",
   "execution_count": 12,
   "metadata": {},
   "outputs": [],
   "source": [
    "#--- fixed constants ---\n",
    "NUM_CLASSES = 24\n",
    "DATA_DIR = '../data/sign_mnist_%s'"
   ]
  },
  {
   "cell_type": "code",
   "execution_count": 13,
   "metadata": {},
   "outputs": [],
   "source": [
    "# --- Dataset initialization ---\n",
    "\n",
    "# We transform image files' contents to tensors\n",
    "# Plus, we can add random transformations to the training data if we like\n",
    "# Think on what kind of transformations may be meaningful for this data.\n",
    "# Eg., horizontal-flip is definitely a bad idea for sign language data.\n",
    "# You can use another transformation here if you find a better one.\n",
    "train_transform = transforms.Compose([\n",
    "                                        #.Grayscale(),\n",
    "                                        transforms.RandomRotation(15),\n",
    "                                        transforms.ToTensor(),\n",
    "                                    ])\n",
    "test_transform = transforms.Compose([\n",
    "                                        #transforms.Grayscale(),\n",
    "                                        transforms.RandomRotation(15),\n",
    "                                        transforms.ToTensor(),\n",
    "\n",
    "\n",
    "])\n",
    "\n",
    "train_set = datasets.ImageFolder(DATA_DIR % 'train', transform=train_transform)\n",
    "dev_set   = datasets.ImageFolder(DATA_DIR % 'dev',   transform=test_transform)\n",
    "test_set  = datasets.ImageFolder(DATA_DIR % 'test',  transform=test_transform)\n",
    "\n",
    "# Create Pytorch data loaders\n",
    "train_loader = torch.utils.data.DataLoader(dataset=train_set, batch_size=BATCH_SIZE_TRAIN, shuffle=True)\n",
    "test_loader = torch.utils.data.DataLoader(dataset=test_set, batch_size=BATCH_SIZE_TEST, shuffle=True)\n",
    "validation_loader = torch.utils.data.DataLoader(dataset=dev_set, batch_size=BATCH_SIZE_VALIDATION, shuffle=True)"
   ]
  },
  {
   "cell_type": "code",
   "execution_count": 26,
   "metadata": {},
   "outputs": [],
   "source": [
    "#--- model ---\n",
    "class CNN(nn.Module):\n",
    "    def __init__(self, num_classes=NUM_CLASSES):\n",
    "        super(CNN, self).__init__()\n",
    "        self.conv_layers = nn.Sequential(\n",
    "            nn.Conv2d(3, 12, kernel_size=3),\n",
    "            nn.MaxPool2d(2,2),\n",
    "            nn.Tanh(),\n",
    "            nn.Conv2d(12, 48, kernel_size=3),\n",
    "            nn.MaxPool2d(2,2),\n",
    "            nn.Tanh(),\n",
    "        )\n",
    "        self.fc_layers = nn.Sequential(\n",
    "            nn.Linear(1200, 2048),\n",
    "            nn.Tanh(),\n",
    "            nn.Dropout(0.2),\n",
    "            nn.Linear(2048, 2048),\n",
    "            nn.Tanh(),\n",
    "            nn.Dropout(0.2),\n",
    "            nn.Linear(2048, 2048),\n",
    "            nn.Tanh(),\n",
    "            nn.Dropout(0.2),\n",
    "            nn.Linear(2048, 128),\n",
    "            nn.Tanh(),\n",
    "            nn.Dropout(0.2),\n",
    "            nn.Linear(128, NUM_CLASSES),\n",
    "            nn.LogSoftmax(dim=1)\n",
    "        )\n",
    "\n",
    "    def forward(self, x):\n",
    "        x = self.conv_layers(x)\n",
    "        #print(x.shape)\n",
    "        x = x.view(-1, x.shape[1:].numel())\n",
    "        #print(x.shape)\n",
    "        x = self.fc_layers(x)\n",
    "        return x"
   ]
  },
  {
   "cell_type": "code",
   "execution_count": 27,
   "metadata": {},
   "outputs": [],
   "source": [
    "#--- set up ---\n",
    "if torch.cuda.is_available():\n",
    "    device = torch.device('cuda')\n",
    "else:\n",
    "    device = torch.device('cpu')\n",
    "\n",
    "model = CNN().to(device)\n",
    "\n",
    "optimizer = optim.SGD(model.parameters(), lr=LR, momentum=0.75)\n",
    "loss_function = F.nll_loss"
   ]
  },
  {
   "cell_type": "code",
   "execution_count": 28,
   "metadata": {},
   "outputs": [
    {
     "name": "stdout",
     "output_type": "stream",
     "text": [
      "Validation: Epoch 0: Loss: 173.5947 | Validation Acc: 5.771% (202/3500)\n",
      "Validation: Epoch 1: Loss: 117.3073 | Validation Acc: 30.429% (1065/3500)\n",
      "Validation: Epoch 2: Loss: 75.7128 | Validation Acc: 53.343% (1867/3500)\n",
      "Validation: Epoch 3: Loss: 47.8236 | Validation Acc: 70.143% (2455/3500)\n",
      "Validation: Epoch 4: Loss: 36.0882 | Validation Acc: 78.743% (2756/3500)\n",
      "Validation: Epoch 5: Loss: 28.6535 | Validation Acc: 83.686% (2929/3500)\n",
      "Validation: Epoch 6: Loss: 22.6330 | Validation Acc: 87.486% (3062/3500)\n",
      "Validation: Epoch 7: Loss: 21.8852 | Validation Acc: 87.457% (3061/3500)\n",
      "Validation: Epoch 8: Loss: 19.8258 | Validation Acc: 89.200% (3122/3500)\n",
      "Validation: Epoch 9: Loss: 20.2344 | Validation Acc: 89.543% (3134/3500)\n",
      "Validation: Epoch 10: Loss: 15.9370 | Validation Acc: 91.286% (3195/3500)\n",
      "Validation: Epoch 11: Loss: 16.3874 | Validation Acc: 91.886% (3216/3500)\n",
      "Validation: Epoch 12: Loss: 16.0385 | Validation Acc: 91.457% (3201/3500)\n",
      "Validation: Epoch 13: Loss: 15.0704 | Validation Acc: 92.114% (3224/3500)\n",
      "Validation: Epoch 14: Loss: 15.6636 | Validation Acc: 92.286% (3230/3500)\n",
      "Validation: Epoch 15: Loss: 14.5423 | Validation Acc: 92.286% (3230/3500)\n",
      "Validation: Epoch 16: Loss: 15.2723 | Validation Acc: 92.171% (3226/3500)\n",
      "Validation: Epoch 17: Loss: 14.7043 | Validation Acc: 92.686% (3244/3500)\n",
      "Validation: Epoch 18: Loss: 14.2732 | Validation Acc: 93.371% (3268/3500)\n",
      "Validation: Epoch 19: Loss: 14.7315 | Validation Acc: 93.200% (3262/3500)\n",
      "Validation: Epoch 20: Loss: 15.3309 | Validation Acc: 92.943% (3253/3500)\n"
     ]
    },
    {
     "data": {
      "image/png": "[encoded data removed]",
      "text/plain": [
       "<Figure size 432x288 with 1 Axes>"
      ]
     },
     "metadata": {
      "needs_background": "light"
     },
     "output_type": "display_data"
    },
    {
     "data": {
      "image/png": "[encoded data removed]",
      "text/plain": [
       "<Figure size 432x288 with 1 Axes>"
      ]
     },
     "metadata": {
      "needs_background": "light"
     },
     "output_type": "display_data"
    }
   ],
   "source": [
    "training_losses = []\n",
    "validation_losses = []\n",
    "\n",
    "training_accuracies = []\n",
    "validation_accuracies = []\n",
    "\n",
    "\n",
    "epoch_stopped = 0\n",
    "\n",
    "#--- training ---\n",
    "for epoch in range(N_EPOCHS):\n",
    "    train_loss = 0\n",
    "    train_correct = 0\n",
    "    total = 0\n",
    "    for batch_num, (data, target) in enumerate(train_loader):\n",
    "        data, target = data.to(device), target.to(device)\n",
    "        \n",
    "        optimizer.zero_grad() \n",
    "        output = model(data)\n",
    "        train_loss = loss_function(output, target)\n",
    "        train_loss.backward()\n",
    "        optimizer.step()\n",
    "        \n",
    "        pred = output.max(1, keepdim=True)[1]\n",
    "        train_correct += pred.eq(target.view_as(pred)).sum().item()\n",
    "        total += data.shape[0]\n",
    "\n",
    "        #if batch_num % 25 == 0:\n",
    "        #    print('Training: Epoch %d - Batch %d/%d: Loss: %.4f | Train Acc: %.3f%% (%d/%d)' % \n",
    "        #          (epoch, batch_num, len(train_loader), train_loss / (batch_num + 1), \n",
    "        #           100. * train_correct / total, train_correct, total))\n",
    "    \n",
    "    validation_loss = 0\n",
    "    validation_correct = 0\n",
    "    validation_total = 0\n",
    "    \n",
    "    with torch.no_grad():\n",
    "        for batch_num, (data, target) in enumerate(validation_loader):\n",
    "            data, target = data.to(device), target.to(device)\n",
    "\n",
    "            output = model(data)\n",
    "            validation_loss += loss_function(output, target).item()\n",
    "            \n",
    "            pred = output.max(1, keepdim=True)[1]\n",
    "            validation_correct += pred.eq(target.view_as(pred)).sum().item()\n",
    "            validation_total += data.shape[0]\n",
    "\n",
    "    \n",
    "    print('Validation: Epoch %d: Loss: %.4f | Validation Acc: %.3f%% (%d/%d)' % \n",
    "          (epoch, validation_loss, (100. * validation_correct / validation_total), validation_correct, \n",
    "           validation_total))\n",
    "    \n",
    "    # Check if average of the last 5 validation losses is smaller than current validation loss\n",
    "    if epoch > 5 and statistics.mean(validation_losses[-6:]) < validation_loss:\n",
    "        epoch_stopped = epoch\n",
    "        break\n",
    "        \n",
    "    training_losses.append(train_loss.detach().cpu())\n",
    "    validation_losses.append(validation_loss)\n",
    "        \n",
    "    training_accuracies.append((100. * train_correct / total))\n",
    "    validation_accuracies.append((100. * validation_correct / validation_total))\n",
    "\n",
    "    \n",
    "plt.plot(range(epoch_stopped), training_losses, label = \"Training loss\")\n",
    "plt.plot(range(epoch_stopped), validation_losses, label = \"Validation loss\")\n",
    "plt.xlabel('epoch')\n",
    "plt.ylabel('loss')\n",
    "plt.title('Loss')\n",
    "plt.legend()\n",
    "plt.show()\n",
    "\n",
    "plt.plot(range(epoch_stopped), training_accuracies, label = \"Training accuracy\")\n",
    "plt.plot(range(epoch_stopped), validation_accuracies, label = \"Validation accuracy\")\n",
    "plt.xlabel('epoch')\n",
    "plt.ylabel('accuracy')\n",
    "plt.title('Accuracy')\n",
    "plt.legend()\n",
    "plt.show()"
   ]
  },
  {
   "cell_type": "code",
   "execution_count": 34,
   "metadata": {},
   "outputs": [
    {
     "name": "stdout",
     "output_type": "stream",
     "text": [
      "Evaluating: Batch 0/58: Loss: 0.1914 | Test Acc: 95.312% (61/64)\n",
      "Evaluating: Batch 25/58: Loss: 0.0103 | Test Acc: 93.870% (1562/1664)\n",
      "Evaluating: Batch 50/58: Loss: 0.0068 | Test Acc: 92.770% (3028/3264)\n",
      "Final test score: Loss: 17.0350, Accuracy: 92.838%\n"
     ]
    }
   ],
   "source": [
    "#--- test ---\n",
    "test_loss = 0\n",
    "test_correct = 0\n",
    "total = 0\n",
    "total_test_loss = 0\n",
    "with torch.no_grad():\n",
    "    for batch_num, (data, target) in enumerate(test_loader):\n",
    "        test_loss = 0\n",
    "        data, target = data.to(device), target.to(device)\n",
    "        output = model(data)\n",
    "        test_loss = loss_function(output, target).item()\n",
    "        pred = output.max(1, keepdim=True)[1]\n",
    "        test_correct += pred.eq(target.view_as(pred)).sum().item()\n",
    "        total += data.shape[0]\n",
    "\n",
    "        #test_loss /= len(test_loader.dataset)\n",
    "        \n",
    "        if batch_num % 25 == 0:\n",
    "\n",
    "            print('Evaluating: Batch %d/%d: Loss: %.4f | Test Acc: %.3f%% (%d/%d)' % \n",
    "                  (batch_num, len(test_loader), test_loss / (batch_num + 1), \n",
    "                   100. * test_correct / total, test_correct, total))\n",
    "        total_test_loss += test_loss\n",
    "print(\"Final test score: Loss: %.4f, Accuracy: %.3f%%\" % (total_test_loss, (100. * test_correct / total)))"
   ]
  },
  {
   "cell_type": "code",
   "execution_count": null,
   "metadata": {},
   "outputs": [],
   "source": []
  }
 ],
 "metadata": {
  "interpreter": {
   "hash": "36f4a23a3aeb4883add478eb7e532620deee326c7dac1d5dbba430c6327c8f89"
  },
  "kernelspec": {
   "display_name": "basic-pytorch",
   "language": "python",
   "name": "python3"
  },
  "language_info": {
   "codemirror_mode": {
    "name": "ipython",
    "version": 3
   },
   "file_extension": ".py",
   "mimetype": "text/x-python",
   "name": "python",
   "nbconvert_exporter": "python",
   "pygments_lexer": "ipython3",
   "version": "3.9.10"
  }
 },
 "nbformat": 4,
 "nbformat_minor": 2
}
