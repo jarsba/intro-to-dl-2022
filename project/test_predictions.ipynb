{
 "cells": [
  {
   "cell_type": "code",
   "execution_count": 1,
   "metadata": {},
   "outputs": [],
   "source": [
    "from modules.model import CNN\n",
    "import numpy as np\n",
    "import torch\n",
    "from torchvision.io import read_image, ImageReadMode\n",
    "import glob\n",
    "from torch.utils.data import DataLoader\n",
    "from modules.dataset import ProjectTestDataset\n",
    "from numpy import savetxt"
   ]
  },
  {
   "cell_type": "code",
   "execution_count": 2,
   "metadata": {},
   "outputs": [],
   "source": [
    "model = CNN()\n",
    "model.load_state_dict(torch.load('model_state.bin'))\n",
    "model = model.to('cuda')\n",
    "NUM_CLASSES = 14\n",
    "BATCH_SIZE = 64"
   ]
  },
  {
   "cell_type": "code",
   "execution_count": 3,
   "metadata": {},
   "outputs": [],
   "source": [
    "dl = DataLoader(dataset=ProjectTestDataset(), batch_size=64)"
   ]
  },
  {
   "cell_type": "code",
   "execution_count": 4,
   "metadata": {},
   "outputs": [],
   "source": [
    "predictions = None"
   ]
  },
  {
   "cell_type": "code",
   "execution_count": 7,
   "metadata": {},
   "outputs": [],
   "source": [
    "with torch.no_grad():\n",
    "    model.train(False)\n",
    "    for i, batch in enumerate(dl):\n",
    "        batch = batch.to('cuda')\n",
    "        output = torch.sigmoid(model(batch.float()))\n",
    "        if predictions is None:\n",
    "            predictions = output.detach().cpu().numpy()\n",
    "        else:\n",
    "            predictions = np.vstack((predictions, output.detach().cpu().numpy()))"
   ]
  },
  {
   "cell_type": "code",
   "execution_count": null,
   "metadata": {},
   "outputs": [],
   "source": [
    "predictions.shape"
   ]
  },
  {
   "cell_type": "code",
   "execution_count": null,
   "metadata": {},
   "outputs": [],
   "source": [
    "predictions[0]"
   ]
  },
  {
   "cell_type": "markdown",
   "metadata": {},
   "source": [
    "BABY BIRD CAR CLOUDS DOG FEMALE FLOWER MALE NIGHT PEOPLE PORTRAIT RIVER SEA TREE"
   ]
  },
  {
   "cell_type": "code",
   "execution_count": null,
   "metadata": {},
   "outputs": [],
   "source": [
    "savetxt(fname='predictions_prob.txt', X=predictions, fmt='%.3f', delimiter=',')\n",
    "savetxt(fname='predictions_class.txt', X=predictions.round(), fmt='%.0f', delimiter=',')"
   ]
  },
  {
   "cell_type": "code",
   "execution_count": null,
   "metadata": {},
   "outputs": [],
   "source": []
  }
 ],
 "metadata": {
  "interpreter": {
   "hash": "36f4a23a3aeb4883add478eb7e532620deee326c7dac1d5dbba430c6327c8f89"
  },
  "kernelspec": {
   "display_name": "Python 3.9.12 ('idl')",
   "language": "python",
   "name": "python3"
  },
  "language_info": {
   "codemirror_mode": {
    "name": "ipython",
    "version": 3
   },
   "file_extension": ".py",
   "mimetype": "text/x-python",
   "name": "python",
   "nbconvert_exporter": "python",
   "pygments_lexer": "ipython3",
   "version": "3.9.12"
  },
  "orig_nbformat": 4
 },
 "nbformat": 4,
 "nbformat_minor": 2
}
